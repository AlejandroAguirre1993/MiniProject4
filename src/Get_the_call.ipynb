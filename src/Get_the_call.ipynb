{
 "cells": [
  {
   "cell_type": "code",
   "execution_count": 5,
   "id": "32c124d6-9087-4d7a-a14c-1bf9a02d82be",
   "metadata": {},
   "outputs": [],
   "source": [
    "import pandas as pd\n",
    "json_data = {'Gender': 'Female',\n",
    " 'Married': 'Yes',\n",
    " 'Dependents': '3+',\n",
    " 'Education': 'Graduate',\n",
    " 'Self_Employed': 'No',\n",
    " 'ApplicantIncome': 5000,\n",
    " 'CoapplicantIncome': 1508.0,\n",
    " 'LoanAmount': 66.0,\n",
    " 'Loan_Amount_Term': 360.0,\n",
    " 'Credit_History': 0.0,\n",
    " 'Property_Area': 'Urban'\n",
    "}\n"
   ]
  },
  {
   "cell_type": "code",
   "execution_count": null,
   "id": "815f7a07-a116-4dc5-9032-8208c968025b",
   "metadata": {},
   "outputs": [],
   "source": []
  },
  {
   "cell_type": "code",
   "execution_count": 6,
   "id": "07e802fb-2276-499c-b2be-e7c613cbd7c7",
   "metadata": {},
   "outputs": [],
   "source": [
    "import requests\n",
    "URL = \"http://127.0.0.1:5000/predict\"\n",
    "# sending get request and saving the response as response object \n",
    "r = requests.post(url = URL, json = json_data)"
   ]
  },
  {
   "cell_type": "code",
   "execution_count": 7,
   "id": "cabd168c-d111-4be8-bf08-f6c8b12e38f1",
   "metadata": {},
   "outputs": [
    {
     "data": {
      "text/plain": [
       "'{\\n  \"Prediction\": \"Loan Rejected\"\\n}\\n'"
      ]
     },
     "execution_count": 7,
     "metadata": {},
     "output_type": "execute_result"
    }
   ],
   "source": [
    "r.text"
   ]
  },
  {
   "cell_type": "code",
   "execution_count": 8,
   "id": "457a5bad-d913-4c06-bd50-55b4c1b247bf",
   "metadata": {},
   "outputs": [
    {
     "data": {
      "text/plain": [
       "{'Prediction': 'Loan Rejected'}"
      ]
     },
     "execution_count": 8,
     "metadata": {},
     "output_type": "execute_result"
    }
   ],
   "source": [
    "r.json()"
   ]
  },
  {
   "cell_type": "code",
   "execution_count": null,
   "id": "052177cb-c230-4774-a881-e2d3711637b0",
   "metadata": {},
   "outputs": [],
   "source": []
  }
 ],
 "metadata": {
  "kernelspec": {
   "display_name": "Python 3",
   "language": "python",
   "name": "python3"
  },
  "language_info": {
   "codemirror_mode": {
    "name": "ipython",
    "version": 3
   },
   "file_extension": ".py",
   "mimetype": "text/x-python",
   "name": "python",
   "nbconvert_exporter": "python",
   "pygments_lexer": "ipython3",
   "version": "3.8.8"
  }
 },
 "nbformat": 4,
 "nbformat_minor": 5
}
